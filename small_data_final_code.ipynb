{
  "cells": [
    {
      "cell_type": "markdown",
      "metadata": {
        "id": "view-in-github",
        "colab_type": "text"
      },
      "source": [
        "<a href=\"https://colab.research.google.com/github/DaHyeonnn/poison-mushroom/blob/main/small_data_final_code.ipynb\" target=\"_parent\"><img src=\"https://colab.research.google.com/assets/colab-badge.svg\" alt=\"Open In Colab\"/></a>"
      ]
    },
    {
      "cell_type": "markdown",
      "metadata": {
        "id": "25aOjxkiEEdr"
      },
      "source": [
        "### 코랩에서 kaggle dataset 사용하는 방법\n",
        "[https://soohee410.github.io/colab_kaggle](https://soohee410.github.io/colab_kaggle)\n",
        "\n",
        "[https://kubig-2021-2.tistory.com/35](https://kubig-2021-2.tistory.com/35)"
      ]
    },
    {
      "cell_type": "markdown",
      "metadata": {
        "id": "xLxI1vf1rGI5"
      },
      "source": [
        ""
      ]
    },
    {
      "cell_type": "code",
      "execution_count": null,
      "metadata": {
        "colab": {
          "background_save": true,
          "base_uri": "https://localhost:8080/",
          "height": 285,
          "resources": {
            "http://localhost:8080/nbextensions/google.colab/files.js": {
              "data": "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",
              "headers": [
                [
                  "content-type",
                  "application/javascript"
                ]
              ],
              "ok": true,
              "status": 200,
              "status_text": ""
            }
          }
        },
        "id": "s0OH8_GSq324",
        "outputId": "c6b377ae-9203-485b-d192-2a2262fb3d8c"
      },
      "outputs": [
        {
          "name": "stdout",
          "output_type": "stream",
          "text": [
            "Looking in indexes: https://pypi.org/simple, https://us-python.pkg.dev/colab-wheels/public/simple/\n",
            "Requirement already satisfied: kaggle in /usr/local/lib/python3.7/dist-packages (1.5.12)\n",
            "Requirement already satisfied: python-dateutil in /usr/local/lib/python3.7/dist-packages (from kaggle) (2.8.2)\n",
            "Requirement already satisfied: requests in /usr/local/lib/python3.7/dist-packages (from kaggle) (2.23.0)\n",
            "Requirement already satisfied: python-slugify in /usr/local/lib/python3.7/dist-packages (from kaggle) (6.1.2)\n",
            "Requirement already satisfied: tqdm in /usr/local/lib/python3.7/dist-packages (from kaggle) (4.64.0)\n",
            "Requirement already satisfied: urllib3 in /usr/local/lib/python3.7/dist-packages (from kaggle) (1.24.3)\n",
            "Requirement already satisfied: six>=1.10 in /usr/local/lib/python3.7/dist-packages (from kaggle) (1.15.0)\n",
            "Requirement already satisfied: certifi in /usr/local/lib/python3.7/dist-packages (from kaggle) (2022.5.18.1)\n",
            "Requirement already satisfied: text-unidecode>=1.3 in /usr/local/lib/python3.7/dist-packages (from python-slugify->kaggle) (1.3)\n",
            "Requirement already satisfied: idna<3,>=2.5 in /usr/local/lib/python3.7/dist-packages (from requests->kaggle) (2.10)\n",
            "Requirement already satisfied: chardet<4,>=3.0.2 in /usr/local/lib/python3.7/dist-packages (from requests->kaggle) (3.0.4)\n"
          ]
        },
        {
          "data": {
            "text/html": [
              "\n",
              "     <input type=\"file\" id=\"files-171b2b0c-a417-4484-9c82-78ae8f519680\" name=\"files[]\" multiple disabled\n",
              "        style=\"border:none\" />\n",
              "     <output id=\"result-171b2b0c-a417-4484-9c82-78ae8f519680\">\n",
              "      Upload widget is only available when the cell has been executed in the\n",
              "      current browser session. Please rerun this cell to enable.\n",
              "      </output>\n",
              "      <script src=\"/nbextensions/google.colab/files.js\"></script> "
            ],
            "text/plain": [
              "<IPython.core.display.HTML object>"
            ]
          },
          "metadata": {},
          "output_type": "display_data"
        },
        {
          "ename": "TypeError",
          "evalue": "ignored",
          "output_type": "error",
          "traceback": [
            "\u001b[0;31m---------------------------------------------------------------------------\u001b[0m",
            "\u001b[0;31mTypeError\u001b[0m                                 Traceback (most recent call last)",
            "\u001b[0;32m<ipython-input-3-7cafc0c16c3b>\u001b[0m in \u001b[0;36m<module>\u001b[0;34m()\u001b[0m\n\u001b[1;32m      2\u001b[0m \u001b[0mget_ipython\u001b[0m\u001b[0;34m(\u001b[0m\u001b[0;34m)\u001b[0m\u001b[0;34m.\u001b[0m\u001b[0msystem\u001b[0m\u001b[0;34m(\u001b[0m\u001b[0;34m'pip install kaggle'\u001b[0m\u001b[0;34m)\u001b[0m\u001b[0;34m\u001b[0m\u001b[0;34m\u001b[0m\u001b[0m\n\u001b[1;32m      3\u001b[0m \u001b[0;32mfrom\u001b[0m \u001b[0mgoogle\u001b[0m\u001b[0;34m.\u001b[0m\u001b[0mcolab\u001b[0m \u001b[0;32mimport\u001b[0m \u001b[0mfiles\u001b[0m\u001b[0;34m\u001b[0m\u001b[0;34m\u001b[0m\u001b[0m\n\u001b[0;32m----> 4\u001b[0;31m \u001b[0mfiles\u001b[0m\u001b[0;34m.\u001b[0m\u001b[0mupload\u001b[0m\u001b[0;34m(\u001b[0m\u001b[0;34m)\u001b[0m \u001b[0;31m# kaggle.json 업로드\u001b[0m\u001b[0;34m\u001b[0m\u001b[0;34m\u001b[0m\u001b[0m\n\u001b[0m",
            "\u001b[0;32m/usr/local/lib/python3.7/dist-packages/google/colab/files.py\u001b[0m in \u001b[0;36mupload\u001b[0;34m()\u001b[0m\n\u001b[1;32m     44\u001b[0m   \"\"\"\n\u001b[1;32m     45\u001b[0m \u001b[0;34m\u001b[0m\u001b[0m\n\u001b[0;32m---> 46\u001b[0;31m   \u001b[0muploaded_files\u001b[0m \u001b[0;34m=\u001b[0m \u001b[0m_upload_files\u001b[0m\u001b[0;34m(\u001b[0m\u001b[0mmultiple\u001b[0m\u001b[0;34m=\u001b[0m\u001b[0;32mTrue\u001b[0m\u001b[0;34m)\u001b[0m\u001b[0;34m\u001b[0m\u001b[0;34m\u001b[0m\u001b[0m\n\u001b[0m\u001b[1;32m     47\u001b[0m   \u001b[0;31m# Mapping from original filename to filename as saved locally.\u001b[0m\u001b[0;34m\u001b[0m\u001b[0;34m\u001b[0m\u001b[0;34m\u001b[0m\u001b[0m\n\u001b[1;32m     48\u001b[0m   \u001b[0mlocal_filenames\u001b[0m \u001b[0;34m=\u001b[0m \u001b[0mdict\u001b[0m\u001b[0;34m(\u001b[0m\u001b[0;34m)\u001b[0m\u001b[0;34m\u001b[0m\u001b[0;34m\u001b[0m\u001b[0m\n",
            "\u001b[0;32m/usr/local/lib/python3.7/dist-packages/google/colab/files.py\u001b[0m in \u001b[0;36m_upload_files\u001b[0;34m(multiple)\u001b[0m\n\u001b[1;32m    124\u001b[0m   \u001b[0mfiles\u001b[0m \u001b[0;34m=\u001b[0m \u001b[0m_collections\u001b[0m\u001b[0;34m.\u001b[0m\u001b[0mdefaultdict\u001b[0m\u001b[0;34m(\u001b[0m\u001b[0m_six\u001b[0m\u001b[0;34m.\u001b[0m\u001b[0mbinary_type\u001b[0m\u001b[0;34m)\u001b[0m\u001b[0;34m\u001b[0m\u001b[0;34m\u001b[0m\u001b[0m\n\u001b[1;32m    125\u001b[0m \u001b[0;34m\u001b[0m\u001b[0m\n\u001b[0;32m--> 126\u001b[0;31m   \u001b[0;32mwhile\u001b[0m \u001b[0mresult\u001b[0m\u001b[0;34m[\u001b[0m\u001b[0;34m'action'\u001b[0m\u001b[0;34m]\u001b[0m \u001b[0;34m!=\u001b[0m \u001b[0;34m'complete'\u001b[0m\u001b[0;34m:\u001b[0m\u001b[0;34m\u001b[0m\u001b[0;34m\u001b[0m\u001b[0m\n\u001b[0m\u001b[1;32m    127\u001b[0m     result = _output.eval_js(\n\u001b[1;32m    128\u001b[0m         'google.colab._files._uploadFilesContinue(\"{output_id}\")'.format(\n",
            "\u001b[0;31mTypeError\u001b[0m: 'NoneType' object is not subscriptable"
          ]
        }
      ],
      "source": [
        "# kaggle 설치\n",
        "!pip install kaggle\n",
        "from google.colab import files\n",
        "files.upload() # kaggle.json 업로드"
      ]
    },
    {
      "cell_type": "code",
      "execution_count": null,
      "metadata": {
        "id": "L8xQ7Bt2rwkd"
      },
      "outputs": [],
      "source": [
        "!mkdir -p ~/.kaggle\n",
        "!cp kaggle.json ~/.kaggle/\n",
        "\n",
        "!chmod 600 ~/.kaggle/kaggle.json"
      ]
    },
    {
      "cell_type": "code",
      "execution_count": null,
      "metadata": {
        "id": "IOd1UzHlsHoz"
      },
      "outputs": [],
      "source": [
        "# 데이터셋 다운로드\n",
        "!kaggle datasets download -d harperd17/mushroom-pictures"
      ]
    },
    {
      "cell_type": "code",
      "execution_count": null,
      "metadata": {
        "id": "gs3wZSJ4smiP"
      },
      "outputs": [],
      "source": [
        "# 데이터셋 압축 해제\n",
        "!unzip mushroom-pictures.zip"
      ]
    },
    {
      "cell_type": "code",
      "execution_count": null,
      "metadata": {
        "id": "-IroEcKmGBgW"
      },
      "outputs": [],
      "source": [
        "!ls"
      ]
    },
    {
      "cell_type": "code",
      "execution_count": null,
      "metadata": {
        "id": "U1pshrEhtrrh"
      },
      "outputs": [],
      "source": [
        "# 라이브러리를 한 번에 import\n",
        "%matplotlib inline\n",
        "%config InlineBackend.figure_format = 'retina'\n",
        "import matplotlib.pyplot as plt\n",
        "import numpy as np\n",
        "import torch\n",
        "from torch import nn # 손실, 활성화 함수, 신경망 생성을 위한 풀링 함수 포함\n",
        "from torch import optim # optimizer\n",
        "import torch.nn.functional as F\n",
        "from torchvision import datasets, transforms, models\n",
        "\n",
        "from torchvision import transforms\n",
        "from torchvision import datasets\n",
        "\n",
        "from PIL import ImageFile\n",
        "ImageFile.LOAD_TRUNCATED_IMAGES = True\n",
        "\n",
        "from keras.preprocessing.image import ImageDataGenerator\n",
        "from keras.preprocessing.image import ImageDataGenerator, array_to_img, img_to_array, load_img\n",
        "\n",
        "import random\n",
        "import shutil"
      ]
    },
    {
      "cell_type": "code",
      "execution_count": null,
      "metadata": {
        "id": "vJ5juDjWylDi"
      },
      "outputs": [],
      "source": [
        "import os\n",
        "from os import path\n",
        "import glob\n",
        "\n",
        "os.environ['CUDA_LAUNCH_BLOCKING'] = \"1\"\n",
        "os.environ[\"CUDA_VISIBLE_DEVICES\"] = \"0\""
      ]
    },
    {
      "cell_type": "code",
      "execution_count": null,
      "metadata": {
        "id": "T8xh8k_Dtpef"
      },
      "outputs": [],
      "source": [
        "device = torch.device(\"cuda\" if torch.cuda.is_available() \n",
        "                                  else \"cpu\")\n",
        "# pre-trained model 불러오기\n",
        "# 이미지 분류 문제를 해결할 수 있도록 규모가 큰 데이터로 미리 학습된 모델\n",
        "model = models.resnet152(pretrained=True)\n",
        "print(model)"
      ]
    },
    {
      "cell_type": "code",
      "execution_count": null,
      "metadata": {
        "id": "yMK3qBZvNw-8"
      },
      "outputs": [],
      "source": [
        "# 디렉토리리 이름을 변수로 사용할 수 있도록 중간에 있는 공백 '_'가 되도록 디렉토리 이름 수정\n",
        "%cd /content/All_Mushroom_Data\n",
        "\n",
        "!mv 'Amanita bisporigera' 'Amanita_bisporigera'\n",
        "!mv 'Boletus edulis' 'Boletus_edulis'\n",
        "!mv\t'Omphalotus olearius' 'Omphalotus_olearius'\n",
        "!mv 'Amanita muscaria' 'Amanita_muscaria'\n",
        "!mv 'Russula mariae' 'Russula_mariae'\n",
        "\n",
        "%cd .."
      ]
    },
    {
      "cell_type": "code",
      "execution_count": null,
      "metadata": {
        "id": "ieuLxvVGsLHO"
      },
      "outputs": [],
      "source": [
        "mushrooms = ['Amanita_bisporigera', 'Amanita_muscaria', 'Boletus_edulis', 'Cantharellus', 'Omphalotus_olearius', 'Russula_mariae']\n",
        "path = '/content/All_Mushroom_Data'\n",
        "\n",
        "# 각각 디렉토리 내에 있는 파일들을 리스트에 저장\n",
        "Amanita_bisporigera = glob.glob(path+'/Amanita_bisporigera'+'/*')\n",
        "Amanita_muscaria = glob.glob(path+'/Amanita_muscaria'+'/*')\n",
        "Boletus_edulis = glob.glob(path+'/Boletus_edulis'+'/*')\n",
        "Cantharellus = glob.glob(path+'/Cantharellus'+'/*')\n",
        "Omphalotus_olearius = glob.glob(path+'/Omphalotus_olearius'+'/*')\n",
        "Russula_mariae = glob.glob(path+'/Russula_mariae'+'/*')"
      ]
    },
    {
      "cell_type": "code",
      "execution_count": null,
      "metadata": {
        "id": "QNKMYc8VtB03"
      },
      "outputs": [],
      "source": [
        "# 원본 dataset의 이미지 개수 출력\n",
        "sum = 0\n",
        "for elem in mushrooms:\n",
        "  elem_name = elem\n",
        "  elem_list = globals()[elem]\n",
        "  print(f'{elem_name} 이미지 개수: {len(elem_list)}개')\n",
        "  sum += len(elem_list)\n",
        "print(f'총 이미지 개수: {sum}')"
      ]
    },
    {
      "cell_type": "code",
      "execution_count": null,
      "metadata": {
        "id": "m-hawfx4dTD4"
      },
      "outputs": [],
      "source": [
        "# train, valid, test 폴더 생성\n",
        "!mkdir train\n",
        "!mkdir valid\n",
        "!mkdir test"
      ]
    },
    {
      "cell_type": "code",
      "execution_count": null,
      "metadata": {
        "id": "f2NJHGGjeVXS"
      },
      "outputs": [],
      "source": [
        "# train, valid, test 폴더 안에 각각 클래스별 하위 폴더 생성\n",
        "%cd /content/test\n",
        "for mushroom in mushrooms:\n",
        "  os.mkdir(mushroom)\n",
        "\n",
        "%cd /content/train\n",
        "for mushroom in mushrooms:\n",
        "  os.mkdir(mushroom)  \n",
        "\n",
        "%cd /content/valid\n",
        "for mushroom in mushrooms:\n",
        "  os.mkdir(mushroom)"
      ]
    },
    {
      "cell_type": "code",
      "execution_count": null,
      "metadata": {
        "id": "i3n8e2zVc7R5"
      },
      "outputs": [],
      "source": [
        "# 본격적으로 data split을 하기 전에 test, valid 데이터셋에 몇 장이 들어가는지 계산하여 출력\n",
        "\n",
        "# valid dataset\n",
        "valid_ratio = 0.2\n",
        "Amanita_bisporigera_valid_count = round(len(Amanita_bisporigera)*valid_ratio)\n",
        "Amanita_muscaria_valid_count = round(len(Amanita_muscaria)*valid_ratio)\n",
        "Boletus_edulis_valid_count = round(len(Boletus_edulis)*valid_ratio)\n",
        "Cantharellus_valid_count = round(len(Cantharellus)*valid_ratio)\n",
        "Omphalotus_olearius_valid_count = round(len(Omphalotus_olearius)*valid_ratio)\n",
        "Russula_mariae_valid_count = round(len(Russula_mariae)*valid_ratio)\n",
        "\n",
        "for elem in mushrooms:\n",
        "  print(f'{elem} valid 파일에 들어가는 이미지 개수:', end= ' ')\n",
        "  print(globals()[elem+'_valid_count'], end=' / ')\n",
        "  print(len(globals()[elem]))\n",
        "\n",
        "print('\\n')\n",
        "\n",
        "# test dataset\n",
        "test_ratio = 0.2\n",
        "Amanita_bisporigera_test_count = round(len(Amanita_bisporigera)*test_ratio)\n",
        "Amanita_muscaria_test_count = round(len(Amanita_muscaria)*test_ratio)\n",
        "Boletus_edulis_test_count = round(len(Boletus_edulis)*test_ratio)\n",
        "Cantharellus_test_count = round(len(Cantharellus)*test_ratio)\n",
        "Omphalotus_olearius_test_count = round(len(Omphalotus_olearius)*test_ratio)\n",
        "Russula_mariae_test_count = round(len(Russula_mariae)*test_ratio)\n",
        "\n",
        "for elem in mushrooms:\n",
        "  print(f'{elem} test 파일에 들어가는 이미지 개수:', end= ' ')\n",
        "  print(globals()[elem+'_test_count'], end=' / ')\n",
        "  print(len(globals()[elem]))"
      ]
    },
    {
      "cell_type": "code",
      "execution_count": null,
      "metadata": {
        "id": "sp5PQ53Udiyp"
      },
      "outputs": [],
      "source": [
        "# train, valid, test 데이터셋을 나누는 함수\n",
        "# img_list - 버섯 이미지 파일 리스트\n",
        "# test_count - test dataset에 들어가는 이미지 개수\n",
        "# valid_count - valid dataset에 들어가는 이미지 개수\n",
        "# train_path - train dataset의 경로\n",
        "# test_path - test dataset의 경로\n",
        "# valid_path - valid dataset의 경로\n",
        "\n",
        "def split(img_list, test_count, valid_count, train_path, test_path, valid_path):\n",
        "  # image shuffle\n",
        "  np.random.shuffle(img_list)\n",
        "\n",
        "  test_files=[]\n",
        "  valid_files=[]\n",
        "\n",
        "  # test dataset 분리\n",
        "  for i in random.sample(img_list, test_count):\n",
        "    test_files.append(i)\n",
        "\n",
        "  # test dataset에 포함되지 않은 data -> not_test_files (train + valid)\n",
        "  # not_test_files에서 20%는 valid dataset, 60%는 train dataset으로 분리\n",
        "  not_test_files = [x for x in img_list if x not in test_files]\n",
        "\n",
        "  for i in random.sample(not_test_files, valid_count):\n",
        "    valid_files.append(i)\n",
        "\n",
        "  train_files = [x for x in not_test_files if x not in valid_files]\n",
        "\n",
        "  # split한 data들을 train, test, valid 폴더로 복사\n",
        "  for k in train_files:\n",
        "    shutil.copy(k, train_path)\n",
        "\n",
        "  for c in test_files:\n",
        "    shutil.copy(c, test_path)\n",
        "\n",
        "  for v in valid_files:\n",
        "    shutil.copy(v, valid_path)\n",
        "\n",
        "  print('train 폴더 이미지 개수: {}\\nvalid 폴더 이미지 개수: {}\\ntest 폴더 이미지 개수: {}\\n'.format(len(glob.glob(train_path+'/*')), len(glob.glob(valid_path+'/*')), len(glob.glob(test_path+'/*'))))"
      ]
    },
    {
      "cell_type": "code",
      "execution_count": null,
      "metadata": {
        "id": "T9jyqZuYeifD"
      },
      "outputs": [],
      "source": [
        "mushrooms = ['Amanita_bisporigera', 'Amanita_muscaria', 'Boletus_edulis', 'Cantharellus', 'Omphalotus_olearius', 'Russula_mariae']\n",
        "\n",
        "for elem in mushrooms:\n",
        "  globals()[elem+'_train_path'] = '/content/train/{}'.format(elem)\n",
        "  globals()[elem+'_valid_path'] = '/content/valid/{}'.format(elem)\n",
        "  globals()[elem+'_test_path'] = '/content/test/{}'.format(elem)\n",
        "  split(globals()[elem], globals()[elem+'_test_count'], globals()[elem+'_valid_count'], globals()[elem+'_train_path'], globals()[elem+'_test_path'], globals()[elem+'_valid_path'])"
      ]
    },
    {
      "cell_type": "code",
      "execution_count": null,
      "metadata": {
        "id": "8XVdDf3Xe4Jx"
      },
      "outputs": [],
      "source": [
        "train_path = '/content/train'\n",
        "test_path = '/content/test'\n",
        "valid_path = '/content/valid'\n",
        "\n",
        "# 이미지 resize\n",
        "resize_trans = transforms.Compose([transforms.Resize((224, 224)),\n",
        "                                  transforms.ToTensor(),\n",
        "                                  ])\n",
        "\n",
        "resize_train = datasets.ImageFolder(root=train_path, transform=resize_trans)\n",
        "resize_test = datasets.ImageFolder(root=test_path, transform=resize_trans)\n",
        "resize_valid = datasets.ImageFolder(root=valid_path, transform=resize_trans)"
      ]
    },
    {
      "cell_type": "code",
      "execution_count": null,
      "metadata": {
        "id": "d7xIwVRNfC_E"
      },
      "outputs": [],
      "source": [
        "# data normaliztion\n",
        "def get_mean_std(dataset):\n",
        "  meanRGB = [np.mean(image.numpy(), axis=(1,2)) for image,_ in dataset]\n",
        "  stdRGB = [np.std(image.numpy(), axis=(1,2)) for image,_ in dataset]\n",
        "\n",
        "  meanR = np.mean([m[0] for m in meanRGB])\n",
        "  meanG = np.mean([m[1] for m in meanRGB])\n",
        "  meanB = np.mean([m[2] for m in meanRGB])\n",
        "\n",
        "  stdR = np.mean([s[0] for s in stdRGB])\n",
        "  stdG = np.mean([s[1] for s in stdRGB])\n",
        "  stdB = np.mean([s[2] for s in stdRGB])\n",
        "\n",
        "  print(meanR, meanG, meanB)\n",
        "  print(stdR, stdG, stdB)\n",
        "\n",
        "  mean = [meanR, meanG, meanB]\n",
        "  std = [stdR, stdG, stdB]\n",
        "\n",
        "  return mean, std"
      ]
    },
    {
      "cell_type": "markdown",
      "metadata": {
        "id": "TFSRKOCbBnP8"
      },
      "source": [
        "##아래 normalize 과정에서의 에러 해결 방안##\n",
        "아래 train, test, valid dataset에 대하여 normalize를 진행할 때, 에러가 발생할 수 있다.\n",
        "이 때, 에러 메시지를 확인하여 test/valid/train 폴더 중 어느 폴더에서 에러가 났는지 확인한다.\n",
        "그리고, 아래 Cantharellus에\n",
        "다운받은 사진(587054.jpg)을 수동으로 추가해준다.  \n",
        "<아래의 사진 = 587054>\n",
        "(간혹 아래 사진을 저장할 때, jpeg로 저장될 때가 있는데, 수동 업로드 시 jpg를 업로드해주어야 함을 주의한다.)"
      ]
    },
    {
      "cell_type": "markdown",
      "metadata": {
        "id": "JF4B55rD7Xf6"
      },
      "source": [
        "![587054.jpg](data:image/jpeg;base64,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)"
      ]
    },
    {
      "cell_type": "code",
      "execution_count": null,
      "metadata": {
        "id": "PYhZiisxfHQi"
      },
      "outputs": [],
      "source": [
        "resize_train_mean, resize_train_std = get_mean_std(resize_train)"
      ]
    },
    {
      "cell_type": "code",
      "execution_count": null,
      "metadata": {
        "id": "Y1qW2wCM-1KO"
      },
      "outputs": [],
      "source": [
        "resize_valid_mean, resize_valid_std = get_mean_std(resize_valid)"
      ]
    },
    {
      "cell_type": "code",
      "execution_count": null,
      "metadata": {
        "id": "j3M-fk1PgMSH"
      },
      "outputs": [],
      "source": [
        "resize_test_mean, resize_test_std = get_mean_std(resize_test)"
      ]
    },
    {
      "cell_type": "code",
      "execution_count": null,
      "metadata": {
        "id": "V0KYZBNNgOhW"
      },
      "outputs": [],
      "source": [
        "transform_train = transforms.Compose([\n",
        "    transforms.Resize((224, 224)), # 이미지 resize\n",
        "    transforms.ToTensor(),\n",
        "    transforms.Normalize(resize_train_mean, resize_train_std)\n",
        "])\n",
        "\n",
        "transform_valid = transforms.Compose([\n",
        "    transforms.Resize((224, 224)), \n",
        "    transforms.ToTensor(),\n",
        "    transforms.Normalize(resize_valid_mean, resize_valid_std)\n",
        "])\n",
        "\n",
        "transform_test = transforms.Compose([\n",
        "    transforms.Resize((224, 224)), \n",
        "    transforms.ToTensor(),\n",
        "    transforms.Normalize(resize_test_mean, resize_test_std)\n",
        "])\n",
        "\n",
        "trainset = datasets.ImageFolder(root=train_path, transform=transform_train)\n",
        "validset = datasets.ImageFolder(root=valid_path, transform=transform_valid)\n",
        "testset = datasets.ImageFolder(root=test_path, transform=transform_test)\n",
        "\n",
        "# hyperparameter - batch size를 변경할 수 있는 부분\n",
        "trainloader = torch.utils.data.DataLoader(trainset, batch_size=256,\n",
        "                                          shuffle=True, num_workers=0)\n",
        "\n",
        "validloader = torch.utils.data.DataLoader(validset, batch_size=256,\n",
        "                                         shuffle=True, num_workers=0)\n",
        "\n",
        "testloader = torch.utils.data.DataLoader(testset, batch_size=256,\n",
        "                                         shuffle=True, num_workers=0)"
      ]
    },
    {
      "cell_type": "code",
      "execution_count": null,
      "metadata": {
        "id": "-IlczeZhggOo"
      },
      "outputs": [],
      "source": [
        "dataiter = iter(trainloader)\n",
        "images, labels = dataiter.next()\n",
        "images.shape"
      ]
    },
    {
      "cell_type": "code",
      "execution_count": null,
      "metadata": {
        "id": "6I4c6eHKg5bJ"
      },
      "outputs": [],
      "source": [
        "# Freeze network\n",
        "for param in model.parameters():\n",
        "    param.requires_grad = False\n",
        "\n",
        "# 순서를 갖는 모듈의 컨테이너\n",
        "# 정의된 것과 같은 순서로 모든 모듈들을 통해 전달 -> 신경망을 빠르게 제작\n",
        "# 참고: https://tutorials.pytorch.kr/beginner/basics/buildmodel_tutorial.html\n",
        "# nn.Linear(input_dim, output_dim)\n",
        "# nn.ReLu() - 선형 변환 후에 적용되어 비선형성을 도입\n",
        "# nn.Dropout() - dropout layer를 추가\n",
        "# nn.LogSoftmax - 신경망의 마지막 선형 계층을 전달받아 logits을 반환\n",
        "\n",
        "# 데이터셋의 클래스 개수\n",
        "num_classes = 6\n",
        "\n",
        "model.fc = nn.Sequential(nn.Linear(2048, 512),\n",
        "                                 nn.ReLU(),\n",
        "                                 nn.Dropout(0.3),\n",
        "                                 nn.Linear(512, num_classes),\n",
        "                                 nn.LogSoftmax(dim=1)\n",
        "                                )\n",
        "# loss function\n",
        "criterion = torch.nn.CrossEntropyLoss()\n",
        "\n",
        "# 이전에 시도했던 optimizer과 scheduler - 보고서 작성 시 대조군 필요하면 사용 !!\n",
        "\n",
        "optimizer = optim.Adam(model.fc.parameters(), lr=0.003, weight_decay=0.0)\n",
        "#optimizer = torch.optim.SGD(model.parameters(), lr=0.003, momentum=0.9)\n",
        "scheduler = optim.lr_scheduler.ReduceLROnPlateau(optimizer=optimizer, mode='min', patience=3)\n",
        "# scheduler = optim.lr_scheduler.LambdaLR(optimizer, lambda epoch: 0.9 ** epoch)\n",
        "model.to(device) # NeuralNetwork의 인스턴스를 생성하고 이를 device로 이동한 뒤, 구조를 출력"
      ]
    },
    {
      "cell_type": "code",
      "execution_count": null,
      "metadata": {
        "id": "8A_5Vvx5g8e3"
      },
      "outputs": [],
      "source": [
        "epochs = 20\n",
        "steps = 0\n",
        "running_loss = 0\n",
        "print_every = 20\n",
        "train_losses, val_losses, train_accs, val_accs = [], [], [], []\n",
        "\n",
        "for epoch in range(epochs):\n",
        "    if(epoch > 4): optimizer.param_groups[0][\"lr\"] *= 0.9\n",
        "    print(f'lr: {optimizer.param_groups[0][\"lr\"]:.5f}')\n",
        "    epoch_loss = 0\n",
        "    epoch_accuracy = 0\n",
        "    epoch_val_accuracy = 0\n",
        "    epoch_val_loss = 0\n",
        "\n",
        "    for data, label in trainloader:\n",
        "        data = data.to(device)\n",
        "        label = label.to(device)\n",
        "\n",
        "        output = model(data)\n",
        "        loss = criterion(output, label)\n",
        "\n",
        "        optimizer.zero_grad()\n",
        "        loss.backward()\n",
        "        optimizer.step()\n",
        "\n",
        "        acc = (output.argmax(dim=1) == label).float().mean()\n",
        "        epoch_accuracy += acc / len(trainloader)\n",
        "        epoch_loss += loss / len(trainloader)\n",
        "\n",
        "    if steps % print_every == 0:\n",
        "      with torch.no_grad():\n",
        "\n",
        "          for data, label in validloader:\n",
        "              data = data.to(device)\n",
        "              label = label.to(device)\n",
        "\n",
        "              val_output = model(data)\n",
        "              val_loss = criterion(val_output, label)\n",
        "\n",
        "              acc = (val_output.argmax(dim=1) == label).float().mean()\n",
        "              epoch_val_accuracy += acc / len(validloader)\n",
        "              epoch_val_loss += val_loss / len(validloader)\n",
        "              \n",
        "      \n",
        "      print(\n",
        "          f\"Epoch : {epoch+1} - loss : {epoch_loss:.4f} - acc: {epoch_accuracy:.4f} - val_loss : {epoch_val_loss:.4f} - val_acc: {epoch_val_accuracy:.4f}\\n\"\n",
        "      )\n",
        "      model.train()\n",
        "\n",
        "      train_losses.append(epoch_loss)\n",
        "      val_losses.append(epoch_val_loss)\n",
        "      train_accs.append(epoch_accuracy)\n",
        "      val_accs.append(epoch_val_accuracy)\n",
        "      \n",
        "    print('\\n')\n",
        "\n",
        "torch.save(model, 'aerialmodel.pth')"
      ]
    },
    {
      "cell_type": "markdown",
      "metadata": {
        "id": "tc6szKOtPSOg"
      },
      "source": [
        ""
      ]
    },
    {
      "cell_type": "code",
      "execution_count": null,
      "metadata": {
        "id": "2jhYFdQ1Dhj6"
      },
      "outputs": [],
      "source": [
        "from matplotlib import pyplot as plt\n",
        "x = [0.0001, 0.003, 0.01]\n",
        "y = [128, 256]\n",
        "s = []\n"
      ]
    },
    {
      "cell_type": "code",
      "execution_count": null,
      "metadata": {
        "id": "2FVPY-0VhDdm"
      },
      "outputs": [],
      "source": [
        "import matplotlib.pyplot as plt\n",
        "\n",
        "print(train_losses)\n",
        "print(val_losses)\n",
        "\n",
        "# 만약 위 print문으로 출력했을 때 원소들이 float가 아니면 아래 두 줄 주석 해제한다.\n",
        "\n",
        "train_losses = [elem.item() for elem in train_losses]\n",
        "val_losses = [elem.item() for elem in val_losses]\n",
        "plt.plot(train_losses, label='Train loss')\n",
        "plt.plot(val_losses, label='validation loss')\n",
        "plt.legend(frameon=False)\n",
        "plt.show()"
      ]
    },
    {
      "cell_type": "code",
      "execution_count": null,
      "metadata": {
        "id": "6wa2KNWEhTsF"
      },
      "outputs": [],
      "source": [
        "train_accs = [elem.item() for elem in train_accs]\n",
        "val_accs = [elem.item() for elem in val_accs]\n",
        "plt.plot(train_accs, label='Training accuracy')\n",
        "plt.plot(val_accs, label='val accuracy')\n",
        "plt.legend(frameon=False)\n",
        "plt.show()"
      ]
    },
    {
      "cell_type": "code",
      "execution_count": null,
      "metadata": {
        "id": "EqJdvCqmhV6L"
      },
      "outputs": [],
      "source": [
        "test_dir = \"/content/test/\"\n",
        "test_transforms = transforms.Compose([transforms.Resize((224, 224)), transforms.ToTensor()])"
      ]
    },
    {
      "cell_type": "code",
      "execution_count": null,
      "metadata": {
        "id": "V7aL9sXOEZkN"
      },
      "outputs": [],
      "source": [
        "#Test Accuarcy 출력 과정#\n",
        "\n",
        "accuracy = 0.0\n",
        "    \n",
        "with torch.no_grad():\n",
        "    for data,label in testloader:\n",
        "        data = data.to(device)\n",
        "        label = label.to(device)\n",
        "        outputs = model(data)\n",
        "        acc = (outputs.argmax(dim=1) == label).float().mean()\n",
        "        accuracy += acc / len(testloader)\n",
        "\n",
        "print(f\"accuracy: {accuracy:.4f}\\n\")"
      ]
    },
    {
      "cell_type": "code",
      "execution_count": null,
      "metadata": {
        "id": "-yKkE_uGiUaa"
      },
      "outputs": [],
      "source": [
        "device = torch.device(\"cuda\" if torch.cuda.is_available() else \"cpu\")\n",
        "model=torch.load('aerialmodel.pth')\n",
        "model.eval()"
      ]
    },
    {
      "cell_type": "code",
      "execution_count": null,
      "metadata": {
        "id": "Z5hW_750Jr2i"
      },
      "outputs": [],
      "source": [
        "def predict_image(image):\n",
        "    image_tensor = test_transforms(image).float()\n",
        "    image_tensor = image_tensor.unsqueeze_(0)\n",
        "    input = image_tensor\n",
        "    input = input.to(device)\n",
        "    output = model(input)\n",
        "    index = output.data.cpu().numpy().argmax()\n",
        "    return index"
      ]
    },
    {
      "cell_type": "code",
      "execution_count": null,
      "metadata": {
        "id": "1GLffOTsJuo0"
      },
      "outputs": [],
      "source": [
        "def get_random_images(num):\n",
        "    data = datasets.ImageFolder(test_dir, transform=test_transforms)\n",
        "    classes = data.classes\n",
        "    indices = list(range(len(data)))\n",
        "    np.random.shuffle(indices)\n",
        "    idx = indices[:num]\n",
        "    from torch.utils.data.sampler import SubsetRandomSampler\n",
        "    sampler = SubsetRandomSampler(idx)\n",
        "    loader = torch.utils.data.DataLoader(data, \n",
        "                   sampler=sampler, batch_size=num)\n",
        "    dataiter = iter(loader)\n",
        "    images, labels = dataiter.next()\n",
        "    return images, labels"
      ]
    },
    {
      "cell_type": "code",
      "execution_count": null,
      "metadata": {
        "id": "Y1T7ugC1eHGe"
      },
      "outputs": [],
      "source": [
        "import PIL\n",
        "from PIL import Image,ImageDraw,ImageFont\n",
        "import os\n",
        "classes = trainloader.dataset.classes\n",
        "to_pil = transforms.ToPILImage()\n",
        "images, labels = get_random_images(5)\n",
        "fig=plt.figure(figsize=(20,20))\n",
        "\n",
        "for ii in range(len(images)):\n",
        "    image = to_pil(images[ii])\n",
        "    index = predict_image(image)\n",
        "    sub = fig.add_subplot(1, len(images), ii+1)\n",
        "    res = int(labels[ii]) == index\n",
        "    sub.set_title(str(classes[index]) + \":\" + str(res) + \"     \")\n",
        "    plt.axis('off')\n",
        "    plt.imshow(image)\n",
        "    draw =ImageDraw.Draw(image)\n",
        "    # if (classes[index] == ('Amanita_bisporigera'or 'Amanita_muscaria'or 'Boletus_edulis' or 'Omphalotus_olearius'or 'Russula_mariae')): \n",
        "    #   draw.text(str(classes[index]) + \": \" + \"posion\",fill=\"black\",align='bottom' )\n",
        "    # elif(classes[index] =='Cantharellus'):\n",
        "    #   draw.text(str(classes[index]) + \": \" + \"non-posion \",fill=\"black\",align='bottom')\n",
        "plt.show()"
      ]
    },
    {
      "cell_type": "code",
      "execution_count": null,
      "metadata": {
        "id": "NbEQtT1QJwaT"
      },
      "outputs": [],
      "source": [
        "classes = trainloader.dataset.classes\n",
        "to_pil = transforms.ToPILImage()\n",
        "images, labels = get_random_images(5)\n",
        "fig=plt.figure(figsize=(20,20))\n",
        "for ii in range(len(images)):\n",
        "    image = to_pil(images[ii])\n",
        "    index = predict_image(image)\n",
        "    sub = fig.add_subplot(1, len(images), ii+1)\n",
        "    res = int(labels[ii]) == index\n",
        "    # sub.set_title(str(classes[index]) + \":\" + str(res) + \"     \")\n",
        "    plt.axis('off')\n",
        "    plt.imshow(image)\n",
        "    if (classes[index] == ('Amanita_bisporigera'or 'Amanita_muscaria'or 'Boletus_edulis' or 'Omphalotus_olearius'or 'Russula_mariae')): \n",
        "      sub.set_title(str(classes[index]) + \": \" + \"posion\")\n",
        "    elif(classes[index] =='Cantharellus'):\n",
        "      sub.set_title(str(classes[index]) + \": \" + \"non-posion \")\n",
        "plt.show()"
      ]
    },
    {
      "cell_type": "code",
      "execution_count": null,
      "metadata": {
        "id": "pHx_edFIJyqI"
      },
      "outputs": [],
      "source": [
        ""
      ]
    }
  ],
  "metadata": {
    "accelerator": "GPU",
    "colab": {
      "collapsed_sections": [],
      "name": "small_data_final_code",
      "provenance": [],
      "include_colab_link": true
    },
    "kernelspec": {
      "display_name": "Python 3",
      "name": "python3"
    },
    "language_info": {
      "name": "python"
    }
  },
  "nbformat": 4,
  "nbformat_minor": 0
}